{
 "cells": [
  {
   "cell_type": "code",
   "execution_count": 15,
   "id": "6443349d-671b-40d2-a161-ef52322264d4",
   "metadata": {},
   "outputs": [],
   "source": [
    "# %cp -r /data/* ."
   ]
  },
  {
   "cell_type": "code",
   "execution_count": null,
   "id": "0918a186-53c4-4d95-9d49-4c1a9d51f568",
   "metadata": {},
   "outputs": [],
   "source": [
    "# %cp striming.ipnb /data/"
   ]
  },
  {
   "cell_type": "code",
   "execution_count": 17,
   "id": "876d7393-646b-46c4-a80b-8346786d0f3f",
   "metadata": {
    "scrolled": true
   },
   "outputs": [
    {
     "data": {
      "text/html": [
       "\n",
       "            <div>\n",
       "                <p><b>SparkSession - in-memory</b></p>\n",
       "                \n",
       "        <div>\n",
       "            <p><b>SparkContext</b></p>\n",
       "\n",
       "            <p><a href=\"http://8e956f16d9af:4040\">Spark UI</a></p>\n",
       "\n",
       "            <dl>\n",
       "              <dt>Version</dt>\n",
       "                <dd><code>v3.5.0</code></dd>\n",
       "              <dt>Master</dt>\n",
       "                <dd><code>local[*]</code></dd>\n",
       "              <dt>AppName</dt>\n",
       "                <dd><code>ElectionAnalysis</code></dd>\n",
       "            </dl>\n",
       "        </div>\n",
       "        \n",
       "            </div>\n",
       "        "
      ],
      "text/plain": [
       "<pyspark.sql.session.SparkSession at 0x7fedc7b55c90>"
      ]
     },
     "execution_count": 17,
     "metadata": {},
     "output_type": "execute_result"
    }
   ],
   "source": [
    "from pyspark.sql import SparkSession\n",
    "\n",
    "spark = (\n",
    "        SparkSession.builder.appName(\"ElectionAnalysis\")\n",
    "        .master(\"local[*]\")\n",
    "        # .config(\"spark.jars.packages\", \"org.apache.spark:spark-sql-kafka-0–10_2.12:3.3.0\")  \n",
    "        .config(\"spark.jars.packages\", \"org.apache.spark:spark-sql-kafka-0-10_2.12:3.5.0\")\n",
    "        .config(\"spark.sql.adaptive.enabled\", \"false\")  # Disable adaptive query execution\n",
    "        .getOrCreate()\n",
    "    )\n",
    "spark"
   ]
  },
  {
   "cell_type": "code",
   "execution_count": 18,
   "id": "17abf696-cb15-413f-9c66-b34fece2cc9d",
   "metadata": {},
   "outputs": [
    {
     "name": "stdout",
     "output_type": "stream",
     "text": [
      "root\n",
      " |-- key: binary (nullable = true)\n",
      " |-- value: binary (nullable = true)\n",
      " |-- topic: string (nullable = true)\n",
      " |-- partition: integer (nullable = true)\n",
      " |-- offset: long (nullable = true)\n",
      " |-- timestamp: timestamp (nullable = true)\n",
      " |-- timestampType: integer (nullable = true)\n",
      "\n"
     ]
    }
   ],
   "source": [
    "from pyspark.sql.functions import from_json, col\n",
    "from pyspark.sql.functions import sum as _sum\n",
    "from pyspark.sql.types import (\n",
    "    StructType,\n",
    "    StructField,\n",
    "    StringType,\n",
    "    IntegerType,\n",
    "    TimestampType,\n",
    ")\n",
    "\n",
    "# Read data from Kafka 'votes_topic' and process it\n",
    "votes_df = (\n",
    "    spark\n",
    "    .readStream\n",
    "    .format(\"kafka\")\n",
    "    .option(\"kafka.bootstrap.servers\", \"broker:29092\")\n",
    "    .option(\"subscribe\", \"votes_topic\")\n",
    "    .option(\"startingOffsets\", \"earliest\")\n",
    "    .load()\n",
    ")\n",
    "# votes_df.show()\n",
    "votes_df.printSchema()"
   ]
  },
  {
   "cell_type": "code",
   "execution_count": 19,
   "id": "f8a3d962-a1e2-42f7-86a8-28ebb1d62018",
   "metadata": {},
   "outputs": [],
   "source": [
    "from pyspark.sql.functions import expr\n",
    "\n",
    "votes_df = votes_df.withColumn(\"value\", expr(\"CAST(value as string)\"))\n",
    "# votes_df.show()"
   ]
  },
  {
   "cell_type": "code",
   "execution_count": 20,
   "id": "77b26623-226c-4468-ba6d-2bf905f15bfc",
   "metadata": {},
   "outputs": [
    {
     "name": "stdout",
     "output_type": "stream",
     "text": [
      "root\n",
      " |-- voter_id: string (nullable = true)\n",
      " |-- candidate_id: string (nullable = true)\n",
      " |-- voting_time: timestamp (nullable = true)\n",
      " |-- voter_name: string (nullable = true)\n",
      " |-- party_affiliation: string (nullable = true)\n",
      " |-- biography: string (nullable = true)\n",
      " |-- campaign_platform: string (nullable = true)\n",
      " |-- photo_url: string (nullable = true)\n",
      " |-- candidate_name: string (nullable = true)\n",
      " |-- date_of_birth: string (nullable = true)\n",
      " |-- gender: string (nullable = true)\n",
      " |-- nationality: string (nullable = true)\n",
      " |-- registration_number: string (nullable = true)\n",
      " |-- address: struct (nullable = true)\n",
      " |    |-- street: string (nullable = true)\n",
      " |    |-- city: string (nullable = true)\n",
      " |    |-- state: string (nullable = true)\n",
      " |    |-- country: string (nullable = true)\n",
      " |    |-- postcode: string (nullable = true)\n",
      " |-- email: string (nullable = true)\n",
      " |-- phone_number: string (nullable = true)\n",
      " |-- cell_number: string (nullable = true)\n",
      " |-- picture: string (nullable = true)\n",
      " |-- registered_age: integer (nullable = true)\n",
      " |-- vote: integer (nullable = true)\n",
      "\n"
     ]
    }
   ],
   "source": [
    "from pyspark.sql.functions import from_json\n",
    "\n",
    "vote_schema = StructType(\n",
    "        [\n",
    "            StructField(\"voter_id\", StringType(), True),\n",
    "            StructField(\"candidate_id\", StringType(), True),\n",
    "            StructField(\"voting_time\", TimestampType(), True),\n",
    "            StructField(\"voter_name\", StringType(), True),\n",
    "            StructField(\"party_affiliation\", StringType(), True),\n",
    "            StructField(\"biography\", StringType(), True),\n",
    "            StructField(\"campaign_platform\", StringType(), True),\n",
    "            StructField(\"photo_url\", StringType(), True),\n",
    "            StructField(\"candidate_name\", StringType(), True),\n",
    "            StructField(\"date_of_birth\", StringType(), True),\n",
    "            StructField(\"gender\", StringType(), True),\n",
    "            StructField(\"nationality\", StringType(), True),\n",
    "            StructField(\"registration_number\", StringType(), True),\n",
    "            StructField(\n",
    "                \"address\",\n",
    "                StructType(\n",
    "                    [\n",
    "                        StructField(\"street\", StringType(), True),\n",
    "                        StructField(\"city\", StringType(), True),\n",
    "                        StructField(\"state\", StringType(), True),\n",
    "                        StructField(\"country\", StringType(), True),\n",
    "                        StructField(\"postcode\", StringType(), True),\n",
    "                    ]\n",
    "                ),\n",
    "                True,\n",
    "            ),\n",
    "            StructField(\"email\", StringType(), True),\n",
    "            StructField(\"phone_number\", StringType(), True),\n",
    "            StructField(\"cell_number\", StringType(), True),\n",
    "            StructField(\"picture\", StringType(), True),\n",
    "            StructField(\"registered_age\", IntegerType(), True),\n",
    "            StructField(\"vote\", IntegerType(), True),\n",
    "        ]\n",
    "    )\n",
    "votes_df = votes_df.withColumn(\"value_json\", from_json(col(\"value\"), vote_schema)).selectExpr(\"value_json.*\")\n",
    "votes_df.printSchema()"
   ]
  },
  {
   "cell_type": "code",
   "execution_count": 21,
   "id": "ff1fe19f-08df-4961-80b3-9a8384eec80f",
   "metadata": {},
   "outputs": [],
   "source": [
    "# Data preprocessing: type casting and watermarking\n",
    "votes_df = votes_df.withColumn(\"voting_time\", col(\"voting_time\").cast(TimestampType())) \\\n",
    "            .withColumn(\"vote\", col(\"vote\").cast(IntegerType()))\n",
    "\n",
    "enriched_votes_df = votes_df.withWatermark(\"voting_time\", \"1 minute\")\n",
    "                               "
   ]
  },
  {
   "cell_type": "code",
   "execution_count": 22,
   "id": "25d77718-7842-48fb-91e7-1383dd00f757",
   "metadata": {},
   "outputs": [
    {
     "name": "stdout",
     "output_type": "stream",
     "text": [
      "root\n",
      " |-- candidate_id: string (nullable = true)\n",
      " |-- candidate_name: string (nullable = true)\n",
      " |-- party_affiliation: string (nullable = true)\n",
      " |-- photo_url: string (nullable = true)\n",
      " |-- total_votes: long (nullable = true)\n",
      "\n"
     ]
    }
   ],
   "source": [
    "# Aggregate votes per candidate and turnout by location\n",
    "votes_per_candidate = enriched_votes_df.groupBy(\"candidate_id\",\n",
    "                                                \"candidate_name\",\n",
    "                                                \"party_affiliation\",\n",
    "                                                \"photo_url\") \\\n",
    "                                                .agg(_sum(\"vote\").alias(\"total_votes\"))\n",
    "\n",
    "\n",
    "turnout_by_location = (enriched_votes_df.groupBy(\"address.state\")\n",
    "                       .count().alias(\"total_votes\"))\n",
    "\n",
    "# turnout_by_location.show()\n",
    "votes_per_candidate.printSchema()"
   ]
  },
  {
   "cell_type": "code",
   "execution_count": 23,
   "id": "34724336-8fe5-4e2f-b8d6-0e2e5045992c",
   "metadata": {
    "scrolled": true
   },
   "outputs": [],
   "source": [
    "# Write aggregated data to Kafka topics ('aggregated_votes_per_candidate', 'aggregated_turnout_by_location')\n",
    "\n",
    "votes_per_candidate_to_kafka = (\n",
    "    votes_per_candidate.selectExpr(\"to_json(struct(*)) AS value\")\n",
    "    .writeStream.format(\"kafka\")\n",
    "    .option(\"kafka.bootstrap.servers\", \"broker:29092\")\n",
    "    .option(\"topic\", \"aggregated_votes_per_candidate\")\n",
    "    .option(\"checkpointLocation\",\"/home/jovyan/checkpoint2666/checkpoint1\",)\n",
    "    .outputMode(\"update\")\n",
    "    .start()\n",
    ")\n",
    "\n",
    "turnout_by_location_to_kafka = (\n",
    "        turnout_by_location.selectExpr(\"to_json(struct(*)) AS value\")\n",
    "        .writeStream.format(\"kafka\")\n",
    "        .option(\"kafka.bootstrap.servers\", \"broker:29092\")\n",
    "        .option(\"topic\", \"aggregated_turnout_by_location\")\n",
    "        .option(\"checkpointLocation\",\"/home/jovyan/checkpoint2666/checkpoint2\")\n",
    "        .outputMode(\"update\")\n",
    "        .start()\n",
    "    )\n"
   ]
  },
  {
   "cell_type": "code",
   "execution_count": null,
   "id": "60221a71-5941-44f4-bafa-751c96c38ed6",
   "metadata": {},
   "outputs": [],
   "source": [
    " # Await termination for the streaming queries\n",
    "votes_per_candidate_to_kafka.awaitTermination()\n",
    "turnout_by_location_to_kafka.awaitTermination()\n"
   ]
  }
 ],
 "metadata": {
  "kernelspec": {
   "display_name": "Python 3 (ipykernel)",
   "language": "python",
   "name": "python3"
  },
  "language_info": {
   "codemirror_mode": {
    "name": "ipython",
    "version": 3
   },
   "file_extension": ".py",
   "mimetype": "text/x-python",
   "name": "python",
   "nbconvert_exporter": "python",
   "pygments_lexer": "ipython3",
   "version": "3.11.6"
  }
 },
 "nbformat": 4,
 "nbformat_minor": 5
}
